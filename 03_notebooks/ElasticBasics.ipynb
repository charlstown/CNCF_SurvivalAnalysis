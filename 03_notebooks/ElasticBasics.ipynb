{
 "cells": [
  {
   "cell_type": "markdown",
   "metadata": {},
   "source": [
    "# Librerías"
   ]
  },
  {
   "cell_type": "code",
   "execution_count": 1,
   "metadata": {},
   "outputs": [],
   "source": [
    "from elasticsearch import Elasticsearch\n",
    "from elasticsearch_dsl import Search\n",
    "import json\n",
    "import pandas as pd"
   ]
  },
  {
   "cell_type": "markdown",
   "metadata": {},
   "source": [
    "# Conexión con elastic"
   ]
  },
  {
   "cell_type": "code",
   "execution_count": 2,
   "metadata": {},
   "outputs": [],
   "source": [
    "elastic = Elasticsearch([\"http://127.0.0.1:9200\"])"
   ]
  },
  {
   "cell_type": "code",
   "execution_count": 3,
   "metadata": {
    "scrolled": false
   },
   "outputs": [
    {
     "name": "stdout",
     "output_type": "stream",
     "text": [
      "{\r\n",
      "  \"name\" : \"Lenovo\",\r\n",
      "  \"cluster_name\" : \"elasticsearch\",\r\n",
      "  \"cluster_uuid\" : \"ZW_929WhR9CoGgJdthcJcA\",\r\n",
      "  \"version\" : {\r\n",
      "    \"number\" : \"7.7.0\",\r\n",
      "    \"build_flavor\" : \"default\",\r\n",
      "    \"build_type\" : \"tar\",\r\n",
      "    \"build_hash\" : \"81a1e9eda8e6183f5237786246f6dced26a10eaf\",\r\n",
      "    \"build_date\" : \"2020-05-12T02:01:37.602180Z\",\r\n",
      "    \"build_snapshot\" : false,\r\n",
      "    \"lucene_version\" : \"8.5.1\",\r\n",
      "    \"minimum_wire_compatibility_version\" : \"6.8.0\",\r\n",
      "    \"minimum_index_compatibility_version\" : \"6.0.0-beta1\"\r\n",
      "  },\r\n",
      "  \"tagline\" : \"You Know, for Search\"\r\n",
      "}\r\n"
     ]
    }
   ],
   "source": [
    "!curl -XGET \"0.0.0.0:9200\"    # comprobando conexión"
   ]
  },
  {
   "cell_type": "markdown",
   "metadata": {},
   "source": [
    "# Creando un nuevo índice"
   ]
  },
  {
   "cell_type": "markdown",
   "metadata": {},
   "source": [
    "## 1. Carga de datos en Python"
   ]
  },
  {
   "cell_type": "code",
   "execution_count": 4,
   "metadata": {},
   "outputs": [],
   "source": [
    "path = \"../data/cncf_git_data.json\"\n",
    "\n",
    "data = []\n",
    "for line in open(path, 'r'):\n",
    "    data.append(json.loads(line))"
   ]
  },
  {
   "cell_type": "code",
   "execution_count": 5,
   "metadata": {},
   "outputs": [
    {
     "name": "stdout",
     "output_type": "stream",
     "text": [
      "{'_index': 'git_cncf_190802_enriched_191007', '_type': 'items', '_id': '91d824e7ddb3a16bbe0e229fa62cc88a7415c3e2', '_score': 1, '_source': {'Author_gender': 'Unknown', 'demography_min_date': '2018-12-28T11:53:52.000Z', 'metadata__gelk_backend_name': 'GitEnrich', 'tz': -2, 'project': 'Graduated', 'metadata__timestamp': '2019-08-02T14:22:43.155789+00:00', 'uuid': '91d824e7ddb3a16bbe0e229fa62cc88a7415c3e2', 'Author_user_name': 'Unknown', 'cm_title': 'Graduated', 'Commit_id': '183f4592bb7b37d6053a6a9ce9980c599c766ba2', 'Commit_user_name': 'Unknown', 'metadata__enriched_on': '2019-10-07T19:41:38.181669+00:00', 'author_date': '2018-12-28T09:53:52', 'Author_domain': 'loadsmart.com', 'tag': 'https://github.com/kubernetes/minikube.git', 'author_bot': False, 'message_analyzed': 'Adding ReportError test and HTTP Test server reuse', 'author_org_name': 'Unknown', 'hash_short': 'f948bf', 'repository_labels': [], 'commit_date': '2018-12-28T10:04:45', 'Author_org_name': 'Unknown', 'project_1': 'Graduated', 'Author_uuid': '183f4592bb7b37d6053a6a9ce9980c599c766ba2', 'offset': None, 'lines_added': 21, 'utc_commit_date_weekday': 5, 'committer_domain': 'loadsmart.com', 'author_date_hour': 9, 'commit_date_weekday': 5, 'Commit_uuid': '183f4592bb7b37d6053a6a9ce9980c599c766ba2', 'branches': [], 'committer_name': 'Amim Knabben', 'Commit_gender': 'Unknown', 'Author_gender_acc': 0, 'author_date_weekday': 5, 'Commit_org_name': 'Unknown', 'files': 1, 'metadata__gelk_version': '0.62.0', 'author_id': '183f4592bb7b37d6053a6a9ce9980c599c766ba2', 'hash': 'f948bf81368eb13afc7270e4ad9fd9a4126c6ff2', 'author_name': 'Amim Knabben', 'author_gender': 'Unknown', 'utc_author': '2018-12-28T11:53:52', 'git_author_domain': 'loadsmart.com', 'is_git_commit': 1, 'origin': 'https://github.com/kubernetes/minikube.git', 'utc_author_date_weekday': 5, 'Author_id': '183f4592bb7b37d6053a6a9ce9980c599c766ba2', 'url_id': 'kubernetes/minikube/commit/f948bf81368eb13afc7270e4ad9fd9a4126c6ff2', 'title': 'Adding ReportError test and HTTP Test server reuse', 'github_repo': 'kubernetes/minikube', 'lines_changed': 28, 'utc_commit_date_hour': 12, 'demography_max_date': '2018-12-28T12:44:34.000Z', 'author_user_name': 'Unknown', 'grimoire_creation_date': '2018-12-28T09:53:52-02:00', 'Commit_bot': False, 'author_gender_acc': 0, 'Commit_gender_acc': 0, 'Commit_domain': 'loadsmart.com', 'author_domain': 'loadsmart.com', 'repo_name': 'https://github.com/kubernetes/minikube.git', 'git_uuid': '91d824e7ddb3a16bbe0e229fa62cc88a7415c3e2', 'lines_removed': 7, 'utc_commit': '2018-12-28T12:04:45', 'commit_date_hour': 10, 'metadata__filter_raw': None, 'Author_bot': False, 'message': 'Adding ReportError test and HTTP Test server reuse', 'author_uuid': '183f4592bb7b37d6053a6a9ce9980c599c766ba2', 'time_to_commit_hours': 23.82, 'utc_author_date_hour': 11, 'Commit_name': 'Amim Knabben', 'Author_name': 'Amim Knabben', 'metadata__updated_on': '2018-12-28T12:04:45+00:00'}}\n"
     ]
    }
   ],
   "source": [
    "print(data[0])"
   ]
  },
  {
   "cell_type": "markdown",
   "metadata": {},
   "source": [
    "## 2. Carga de datos en Elastic"
   ]
  },
  {
   "cell_type": "markdown",
   "metadata": {},
   "source": [
    "En versiones anteriores a Elasticssearch 7.0, un **index** podía tener más de un **type** pero en versiones 7.0 y superiores solo puede haber un **type** por **index**. Esta operacion puede demorarse mucho ya que la base de datos es muy grande."
   ]
  },
  {
   "cell_type": "code",
   "execution_count": 11,
   "metadata": {
    "scrolled": true
   },
   "outputs": [
    {
     "name": "stdout",
     "output_type": "stream",
     "text": [
      "Starting indexing... \n",
      "\n",
      "Processed 0 documents, 491703 remaining\n"
     ]
    },
    {
     "ename": "KeyboardInterrupt",
     "evalue": "",
     "output_type": "error",
     "traceback": [
      "\u001b[0;31m-------------------------------------------------------------------------\u001b[0m",
      "\u001b[0;31mKeyboardInterrupt\u001b[0m                       Traceback (most recent call last)",
      "\u001b[0;32m<ipython-input-11-9ab10ffd2244>\u001b[0m in \u001b[0;36m<module>\u001b[0;34m\u001b[0m\n\u001b[1;32m      4\u001b[0m \u001b[0mprint\u001b[0m\u001b[0;34m(\u001b[0m\u001b[0;34m'Starting indexing...'\u001b[0m\u001b[0;34m,\u001b[0m \u001b[0;34m'\\n'\u001b[0m\u001b[0;34m)\u001b[0m\u001b[0;34m\u001b[0m\u001b[0;34m\u001b[0m\u001b[0m\n\u001b[1;32m      5\u001b[0m \u001b[0;32mfor\u001b[0m \u001b[0midx\u001b[0m\u001b[0;34m,\u001b[0m \u001b[0mdoc\u001b[0m \u001b[0;32min\u001b[0m \u001b[0menumerate\u001b[0m\u001b[0;34m(\u001b[0m\u001b[0mdata\u001b[0m\u001b[0;34m)\u001b[0m\u001b[0;34m:\u001b[0m\u001b[0;34m\u001b[0m\u001b[0;34m\u001b[0m\u001b[0m\n\u001b[0;32m----> 6\u001b[0;31m     \u001b[0melastic\u001b[0m\u001b[0;34m.\u001b[0m\u001b[0mindex\u001b[0m\u001b[0;34m(\u001b[0m\u001b[0mindex\u001b[0m \u001b[0;34m=\u001b[0m \u001b[0mindex_name\u001b[0m\u001b[0;34m,\u001b[0m \u001b[0mid\u001b[0m \u001b[0;34m=\u001b[0m \u001b[0mdoc\u001b[0m\u001b[0;34m[\u001b[0m\u001b[0;34m'_id'\u001b[0m\u001b[0;34m]\u001b[0m\u001b[0;34m,\u001b[0m \u001b[0mbody\u001b[0m \u001b[0;34m=\u001b[0m \u001b[0mdoc\u001b[0m\u001b[0;34m[\u001b[0m\u001b[0;34m'_source'\u001b[0m\u001b[0;34m]\u001b[0m\u001b[0;34m)\u001b[0m\u001b[0;34m\u001b[0m\u001b[0;34m\u001b[0m\u001b[0m\n\u001b[0m\u001b[1;32m      7\u001b[0m     \u001b[0;32mif\u001b[0m \u001b[0midx\u001b[0m\u001b[0;34m%\u001b[0m\u001b[0;36m50000\u001b[0m \u001b[0;34m==\u001b[0m \u001b[0;36m0\u001b[0m\u001b[0;34m:\u001b[0m\u001b[0;34m\u001b[0m\u001b[0;34m\u001b[0m\u001b[0m\n\u001b[1;32m      8\u001b[0m         \u001b[0mprint\u001b[0m\u001b[0;34m(\u001b[0m\u001b[0;34m'Processed {} documents, {} remaining'\u001b[0m\u001b[0;34m.\u001b[0m\u001b[0mformat\u001b[0m\u001b[0;34m(\u001b[0m\u001b[0midx\u001b[0m\u001b[0;34m,\u001b[0m \u001b[0mlen\u001b[0m\u001b[0;34m(\u001b[0m\u001b[0mdata\u001b[0m\u001b[0;34m)\u001b[0m\u001b[0;34m-\u001b[0m\u001b[0midx\u001b[0m\u001b[0;34m)\u001b[0m\u001b[0;34m)\u001b[0m\u001b[0;34m\u001b[0m\u001b[0;34m\u001b[0m\u001b[0m\n",
      "\u001b[0;32m~/anaconda3/lib/python3.7/site-packages/elasticsearch/client/utils.py\u001b[0m in \u001b[0;36m_wrapped\u001b[0;34m(*args, **kwargs)\u001b[0m\n\u001b[1;32m     90\u001b[0m                 \u001b[0;32mif\u001b[0m \u001b[0mp\u001b[0m \u001b[0;32min\u001b[0m \u001b[0mkwargs\u001b[0m\u001b[0;34m:\u001b[0m\u001b[0;34m\u001b[0m\u001b[0;34m\u001b[0m\u001b[0m\n\u001b[1;32m     91\u001b[0m                     \u001b[0mparams\u001b[0m\u001b[0;34m[\u001b[0m\u001b[0mp\u001b[0m\u001b[0;34m]\u001b[0m \u001b[0;34m=\u001b[0m \u001b[0mkwargs\u001b[0m\u001b[0;34m.\u001b[0m\u001b[0mpop\u001b[0m\u001b[0;34m(\u001b[0m\u001b[0mp\u001b[0m\u001b[0;34m)\u001b[0m\u001b[0;34m\u001b[0m\u001b[0;34m\u001b[0m\u001b[0m\n\u001b[0;32m---> 92\u001b[0;31m             \u001b[0;32mreturn\u001b[0m \u001b[0mfunc\u001b[0m\u001b[0;34m(\u001b[0m\u001b[0;34m*\u001b[0m\u001b[0margs\u001b[0m\u001b[0;34m,\u001b[0m \u001b[0mparams\u001b[0m\u001b[0;34m=\u001b[0m\u001b[0mparams\u001b[0m\u001b[0;34m,\u001b[0m \u001b[0mheaders\u001b[0m\u001b[0;34m=\u001b[0m\u001b[0mheaders\u001b[0m\u001b[0;34m,\u001b[0m \u001b[0;34m**\u001b[0m\u001b[0mkwargs\u001b[0m\u001b[0;34m)\u001b[0m\u001b[0;34m\u001b[0m\u001b[0;34m\u001b[0m\u001b[0m\n\u001b[0m\u001b[1;32m     93\u001b[0m \u001b[0;34m\u001b[0m\u001b[0m\n\u001b[1;32m     94\u001b[0m         \u001b[0;32mreturn\u001b[0m \u001b[0m_wrapped\u001b[0m\u001b[0;34m\u001b[0m\u001b[0;34m\u001b[0m\u001b[0m\n",
      "\u001b[0;32m~/anaconda3/lib/python3.7/site-packages/elasticsearch/client/__init__.py\u001b[0m in \u001b[0;36mindex\u001b[0;34m(self, index, body, doc_type, id, params, headers)\u001b[0m\n\u001b[1;32m    409\u001b[0m             \u001b[0mparams\u001b[0m\u001b[0;34m=\u001b[0m\u001b[0mparams\u001b[0m\u001b[0;34m,\u001b[0m\u001b[0;34m\u001b[0m\u001b[0;34m\u001b[0m\u001b[0m\n\u001b[1;32m    410\u001b[0m             \u001b[0mheaders\u001b[0m\u001b[0;34m=\u001b[0m\u001b[0mheaders\u001b[0m\u001b[0;34m,\u001b[0m\u001b[0;34m\u001b[0m\u001b[0;34m\u001b[0m\u001b[0m\n\u001b[0;32m--> 411\u001b[0;31m             \u001b[0mbody\u001b[0m\u001b[0;34m=\u001b[0m\u001b[0mbody\u001b[0m\u001b[0;34m,\u001b[0m\u001b[0;34m\u001b[0m\u001b[0;34m\u001b[0m\u001b[0m\n\u001b[0m\u001b[1;32m    412\u001b[0m         )\n\u001b[1;32m    413\u001b[0m \u001b[0;34m\u001b[0m\u001b[0m\n",
      "\u001b[0;32m~/anaconda3/lib/python3.7/site-packages/elasticsearch/transport.py\u001b[0m in \u001b[0;36mperform_request\u001b[0;34m(self, method, url, headers, params, body)\u001b[0m\n\u001b[1;32m    360\u001b[0m                     \u001b[0mheaders\u001b[0m\u001b[0;34m=\u001b[0m\u001b[0mheaders\u001b[0m\u001b[0;34m,\u001b[0m\u001b[0;34m\u001b[0m\u001b[0;34m\u001b[0m\u001b[0m\n\u001b[1;32m    361\u001b[0m                     \u001b[0mignore\u001b[0m\u001b[0;34m=\u001b[0m\u001b[0mignore\u001b[0m\u001b[0;34m,\u001b[0m\u001b[0;34m\u001b[0m\u001b[0;34m\u001b[0m\u001b[0m\n\u001b[0;32m--> 362\u001b[0;31m                     \u001b[0mtimeout\u001b[0m\u001b[0;34m=\u001b[0m\u001b[0mtimeout\u001b[0m\u001b[0;34m,\u001b[0m\u001b[0;34m\u001b[0m\u001b[0;34m\u001b[0m\u001b[0m\n\u001b[0m\u001b[1;32m    363\u001b[0m                 )\n\u001b[1;32m    364\u001b[0m \u001b[0;34m\u001b[0m\u001b[0m\n",
      "\u001b[0;32m~/anaconda3/lib/python3.7/site-packages/elasticsearch/connection/http_urllib3.py\u001b[0m in \u001b[0;36mperform_request\u001b[0;34m(self, method, url, params, body, timeout, ignore, headers)\u001b[0m\n\u001b[1;32m    227\u001b[0m \u001b[0;34m\u001b[0m\u001b[0m\n\u001b[1;32m    228\u001b[0m             response = self.pool.urlopen(\n\u001b[0;32m--> 229\u001b[0;31m                 \u001b[0mmethod\u001b[0m\u001b[0;34m,\u001b[0m \u001b[0murl\u001b[0m\u001b[0;34m,\u001b[0m \u001b[0mbody\u001b[0m\u001b[0;34m,\u001b[0m \u001b[0mretries\u001b[0m\u001b[0;34m=\u001b[0m\u001b[0mRetry\u001b[0m\u001b[0;34m(\u001b[0m\u001b[0;32mFalse\u001b[0m\u001b[0;34m)\u001b[0m\u001b[0;34m,\u001b[0m \u001b[0mheaders\u001b[0m\u001b[0;34m=\u001b[0m\u001b[0mrequest_headers\u001b[0m\u001b[0;34m,\u001b[0m \u001b[0;34m**\u001b[0m\u001b[0mkw\u001b[0m\u001b[0;34m\u001b[0m\u001b[0;34m\u001b[0m\u001b[0m\n\u001b[0m\u001b[1;32m    230\u001b[0m             )\n\u001b[1;32m    231\u001b[0m             \u001b[0mduration\u001b[0m \u001b[0;34m=\u001b[0m \u001b[0mtime\u001b[0m\u001b[0;34m.\u001b[0m\u001b[0mtime\u001b[0m\u001b[0;34m(\u001b[0m\u001b[0;34m)\u001b[0m \u001b[0;34m-\u001b[0m \u001b[0mstart\u001b[0m\u001b[0;34m\u001b[0m\u001b[0;34m\u001b[0m\u001b[0m\n",
      "\u001b[0;32m~/anaconda3/lib/python3.7/site-packages/urllib3/connectionpool.py\u001b[0m in \u001b[0;36murlopen\u001b[0;34m(self, method, url, body, headers, retries, redirect, assert_same_host, timeout, pool_timeout, release_conn, chunked, body_pos, **response_kw)\u001b[0m\n\u001b[1;32m    670\u001b[0m                 \u001b[0mbody\u001b[0m\u001b[0;34m=\u001b[0m\u001b[0mbody\u001b[0m\u001b[0;34m,\u001b[0m\u001b[0;34m\u001b[0m\u001b[0;34m\u001b[0m\u001b[0m\n\u001b[1;32m    671\u001b[0m                 \u001b[0mheaders\u001b[0m\u001b[0;34m=\u001b[0m\u001b[0mheaders\u001b[0m\u001b[0;34m,\u001b[0m\u001b[0;34m\u001b[0m\u001b[0;34m\u001b[0m\u001b[0m\n\u001b[0;32m--> 672\u001b[0;31m                 \u001b[0mchunked\u001b[0m\u001b[0;34m=\u001b[0m\u001b[0mchunked\u001b[0m\u001b[0;34m,\u001b[0m\u001b[0;34m\u001b[0m\u001b[0;34m\u001b[0m\u001b[0m\n\u001b[0m\u001b[1;32m    673\u001b[0m             )\n\u001b[1;32m    674\u001b[0m \u001b[0;34m\u001b[0m\u001b[0m\n",
      "\u001b[0;32m~/anaconda3/lib/python3.7/site-packages/urllib3/connectionpool.py\u001b[0m in \u001b[0;36m_make_request\u001b[0;34m(self, conn, method, url, timeout, chunked, **httplib_request_kw)\u001b[0m\n\u001b[1;32m    419\u001b[0m                     \u001b[0;31m# Python 3 (including for exceptions like SystemExit).\u001b[0m\u001b[0;34m\u001b[0m\u001b[0;34m\u001b[0m\u001b[0;34m\u001b[0m\u001b[0m\n\u001b[1;32m    420\u001b[0m                     \u001b[0;31m# Otherwise it looks like a bug in the code.\u001b[0m\u001b[0;34m\u001b[0m\u001b[0;34m\u001b[0m\u001b[0;34m\u001b[0m\u001b[0m\n\u001b[0;32m--> 421\u001b[0;31m                     \u001b[0msix\u001b[0m\u001b[0;34m.\u001b[0m\u001b[0mraise_from\u001b[0m\u001b[0;34m(\u001b[0m\u001b[0me\u001b[0m\u001b[0;34m,\u001b[0m \u001b[0;32mNone\u001b[0m\u001b[0;34m)\u001b[0m\u001b[0;34m\u001b[0m\u001b[0;34m\u001b[0m\u001b[0m\n\u001b[0m\u001b[1;32m    422\u001b[0m         \u001b[0;32mexcept\u001b[0m \u001b[0;34m(\u001b[0m\u001b[0mSocketTimeout\u001b[0m\u001b[0;34m,\u001b[0m \u001b[0mBaseSSLError\u001b[0m\u001b[0;34m,\u001b[0m \u001b[0mSocketError\u001b[0m\u001b[0;34m)\u001b[0m \u001b[0;32mas\u001b[0m \u001b[0me\u001b[0m\u001b[0;34m:\u001b[0m\u001b[0;34m\u001b[0m\u001b[0;34m\u001b[0m\u001b[0m\n\u001b[1;32m    423\u001b[0m             \u001b[0mself\u001b[0m\u001b[0;34m.\u001b[0m\u001b[0m_raise_timeout\u001b[0m\u001b[0;34m(\u001b[0m\u001b[0merr\u001b[0m\u001b[0;34m=\u001b[0m\u001b[0me\u001b[0m\u001b[0;34m,\u001b[0m \u001b[0murl\u001b[0m\u001b[0;34m=\u001b[0m\u001b[0murl\u001b[0m\u001b[0;34m,\u001b[0m \u001b[0mtimeout_value\u001b[0m\u001b[0;34m=\u001b[0m\u001b[0mread_timeout\u001b[0m\u001b[0;34m)\u001b[0m\u001b[0;34m\u001b[0m\u001b[0;34m\u001b[0m\u001b[0m\n",
      "\u001b[0;32m~/anaconda3/lib/python3.7/site-packages/urllib3/packages/six.py\u001b[0m in \u001b[0;36mraise_from\u001b[0;34m(value, from_value)\u001b[0m\n",
      "\u001b[0;32m~/anaconda3/lib/python3.7/site-packages/urllib3/connectionpool.py\u001b[0m in \u001b[0;36m_make_request\u001b[0;34m(self, conn, method, url, timeout, chunked, **httplib_request_kw)\u001b[0m\n\u001b[1;32m    414\u001b[0m                 \u001b[0;31m# Python 3\u001b[0m\u001b[0;34m\u001b[0m\u001b[0;34m\u001b[0m\u001b[0;34m\u001b[0m\u001b[0m\n\u001b[1;32m    415\u001b[0m                 \u001b[0;32mtry\u001b[0m\u001b[0;34m:\u001b[0m\u001b[0;34m\u001b[0m\u001b[0;34m\u001b[0m\u001b[0m\n\u001b[0;32m--> 416\u001b[0;31m                     \u001b[0mhttplib_response\u001b[0m \u001b[0;34m=\u001b[0m \u001b[0mconn\u001b[0m\u001b[0;34m.\u001b[0m\u001b[0mgetresponse\u001b[0m\u001b[0;34m(\u001b[0m\u001b[0;34m)\u001b[0m\u001b[0;34m\u001b[0m\u001b[0;34m\u001b[0m\u001b[0m\n\u001b[0m\u001b[1;32m    417\u001b[0m                 \u001b[0;32mexcept\u001b[0m \u001b[0mBaseException\u001b[0m \u001b[0;32mas\u001b[0m \u001b[0me\u001b[0m\u001b[0;34m:\u001b[0m\u001b[0;34m\u001b[0m\u001b[0;34m\u001b[0m\u001b[0m\n\u001b[1;32m    418\u001b[0m                     \u001b[0;31m# Remove the TypeError from the exception chain in\u001b[0m\u001b[0;34m\u001b[0m\u001b[0;34m\u001b[0m\u001b[0;34m\u001b[0m\u001b[0m\n",
      "\u001b[0;32m~/anaconda3/lib/python3.7/http/client.py\u001b[0m in \u001b[0;36mgetresponse\u001b[0;34m(self)\u001b[0m\n\u001b[1;32m   1342\u001b[0m         \u001b[0;32mtry\u001b[0m\u001b[0;34m:\u001b[0m\u001b[0;34m\u001b[0m\u001b[0;34m\u001b[0m\u001b[0m\n\u001b[1;32m   1343\u001b[0m             \u001b[0;32mtry\u001b[0m\u001b[0;34m:\u001b[0m\u001b[0;34m\u001b[0m\u001b[0;34m\u001b[0m\u001b[0m\n\u001b[0;32m-> 1344\u001b[0;31m                 \u001b[0mresponse\u001b[0m\u001b[0;34m.\u001b[0m\u001b[0mbegin\u001b[0m\u001b[0;34m(\u001b[0m\u001b[0;34m)\u001b[0m\u001b[0;34m\u001b[0m\u001b[0;34m\u001b[0m\u001b[0m\n\u001b[0m\u001b[1;32m   1345\u001b[0m             \u001b[0;32mexcept\u001b[0m \u001b[0mConnectionError\u001b[0m\u001b[0;34m:\u001b[0m\u001b[0;34m\u001b[0m\u001b[0;34m\u001b[0m\u001b[0m\n\u001b[1;32m   1346\u001b[0m                 \u001b[0mself\u001b[0m\u001b[0;34m.\u001b[0m\u001b[0mclose\u001b[0m\u001b[0;34m(\u001b[0m\u001b[0;34m)\u001b[0m\u001b[0;34m\u001b[0m\u001b[0;34m\u001b[0m\u001b[0m\n",
      "\u001b[0;32m~/anaconda3/lib/python3.7/http/client.py\u001b[0m in \u001b[0;36mbegin\u001b[0;34m(self)\u001b[0m\n\u001b[1;32m    304\u001b[0m         \u001b[0;31m# read until we get a non-100 response\u001b[0m\u001b[0;34m\u001b[0m\u001b[0;34m\u001b[0m\u001b[0;34m\u001b[0m\u001b[0m\n\u001b[1;32m    305\u001b[0m         \u001b[0;32mwhile\u001b[0m \u001b[0;32mTrue\u001b[0m\u001b[0;34m:\u001b[0m\u001b[0;34m\u001b[0m\u001b[0;34m\u001b[0m\u001b[0m\n\u001b[0;32m--> 306\u001b[0;31m             \u001b[0mversion\u001b[0m\u001b[0;34m,\u001b[0m \u001b[0mstatus\u001b[0m\u001b[0;34m,\u001b[0m \u001b[0mreason\u001b[0m \u001b[0;34m=\u001b[0m \u001b[0mself\u001b[0m\u001b[0;34m.\u001b[0m\u001b[0m_read_status\u001b[0m\u001b[0;34m(\u001b[0m\u001b[0;34m)\u001b[0m\u001b[0;34m\u001b[0m\u001b[0;34m\u001b[0m\u001b[0m\n\u001b[0m\u001b[1;32m    307\u001b[0m             \u001b[0;32mif\u001b[0m \u001b[0mstatus\u001b[0m \u001b[0;34m!=\u001b[0m \u001b[0mCONTINUE\u001b[0m\u001b[0;34m:\u001b[0m\u001b[0;34m\u001b[0m\u001b[0;34m\u001b[0m\u001b[0m\n\u001b[1;32m    308\u001b[0m                 \u001b[0;32mbreak\u001b[0m\u001b[0;34m\u001b[0m\u001b[0;34m\u001b[0m\u001b[0m\n",
      "\u001b[0;32m~/anaconda3/lib/python3.7/http/client.py\u001b[0m in \u001b[0;36m_read_status\u001b[0;34m(self)\u001b[0m\n\u001b[1;32m    265\u001b[0m \u001b[0;34m\u001b[0m\u001b[0m\n\u001b[1;32m    266\u001b[0m     \u001b[0;32mdef\u001b[0m \u001b[0m_read_status\u001b[0m\u001b[0;34m(\u001b[0m\u001b[0mself\u001b[0m\u001b[0;34m)\u001b[0m\u001b[0;34m:\u001b[0m\u001b[0;34m\u001b[0m\u001b[0;34m\u001b[0m\u001b[0m\n\u001b[0;32m--> 267\u001b[0;31m         \u001b[0mline\u001b[0m \u001b[0;34m=\u001b[0m \u001b[0mstr\u001b[0m\u001b[0;34m(\u001b[0m\u001b[0mself\u001b[0m\u001b[0;34m.\u001b[0m\u001b[0mfp\u001b[0m\u001b[0;34m.\u001b[0m\u001b[0mreadline\u001b[0m\u001b[0;34m(\u001b[0m\u001b[0m_MAXLINE\u001b[0m \u001b[0;34m+\u001b[0m \u001b[0;36m1\u001b[0m\u001b[0;34m)\u001b[0m\u001b[0;34m,\u001b[0m \u001b[0;34m\"iso-8859-1\"\u001b[0m\u001b[0;34m)\u001b[0m\u001b[0;34m\u001b[0m\u001b[0;34m\u001b[0m\u001b[0m\n\u001b[0m\u001b[1;32m    268\u001b[0m         \u001b[0;32mif\u001b[0m \u001b[0mlen\u001b[0m\u001b[0;34m(\u001b[0m\u001b[0mline\u001b[0m\u001b[0;34m)\u001b[0m \u001b[0;34m>\u001b[0m \u001b[0m_MAXLINE\u001b[0m\u001b[0;34m:\u001b[0m\u001b[0;34m\u001b[0m\u001b[0;34m\u001b[0m\u001b[0m\n\u001b[1;32m    269\u001b[0m             \u001b[0;32mraise\u001b[0m \u001b[0mLineTooLong\u001b[0m\u001b[0;34m(\u001b[0m\u001b[0;34m\"status line\"\u001b[0m\u001b[0;34m)\u001b[0m\u001b[0;34m\u001b[0m\u001b[0;34m\u001b[0m\u001b[0m\n",
      "\u001b[0;32m~/anaconda3/lib/python3.7/socket.py\u001b[0m in \u001b[0;36mreadinto\u001b[0;34m(self, b)\u001b[0m\n\u001b[1;32m    587\u001b[0m         \u001b[0;32mwhile\u001b[0m \u001b[0;32mTrue\u001b[0m\u001b[0;34m:\u001b[0m\u001b[0;34m\u001b[0m\u001b[0;34m\u001b[0m\u001b[0m\n\u001b[1;32m    588\u001b[0m             \u001b[0;32mtry\u001b[0m\u001b[0;34m:\u001b[0m\u001b[0;34m\u001b[0m\u001b[0;34m\u001b[0m\u001b[0m\n\u001b[0;32m--> 589\u001b[0;31m                 \u001b[0;32mreturn\u001b[0m \u001b[0mself\u001b[0m\u001b[0;34m.\u001b[0m\u001b[0m_sock\u001b[0m\u001b[0;34m.\u001b[0m\u001b[0mrecv_into\u001b[0m\u001b[0;34m(\u001b[0m\u001b[0mb\u001b[0m\u001b[0;34m)\u001b[0m\u001b[0;34m\u001b[0m\u001b[0;34m\u001b[0m\u001b[0m\n\u001b[0m\u001b[1;32m    590\u001b[0m             \u001b[0;32mexcept\u001b[0m \u001b[0mtimeout\u001b[0m\u001b[0;34m:\u001b[0m\u001b[0;34m\u001b[0m\u001b[0;34m\u001b[0m\u001b[0m\n\u001b[1;32m    591\u001b[0m                 \u001b[0mself\u001b[0m\u001b[0;34m.\u001b[0m\u001b[0m_timeout_occurred\u001b[0m \u001b[0;34m=\u001b[0m \u001b[0;32mTrue\u001b[0m\u001b[0;34m\u001b[0m\u001b[0;34m\u001b[0m\u001b[0m\n",
      "\u001b[0;31mKeyboardInterrupt\u001b[0m: "
     ]
    }
   ],
   "source": [
    "index_name = 'cncf_dataset'\n",
    "\n",
    "print('Starting indexing...', '\\n')\n",
    "for idx, doc in enumerate(data):\n",
    "    elastic.index(index = index_name, id = doc['_id'], body = doc['_source'])\n",
    "    if idx%50000 == 0:\n",
    "        print('Processed {} documents, {} remaining'.format(idx, len(data)-idx))\n",
    "print('\\n', 'Processing done')"
   ]
  },
  {
   "cell_type": "markdown",
   "metadata": {},
   "source": [
    "# Acciones con índices"
   ]
  },
  {
   "cell_type": "markdown",
   "metadata": {},
   "source": [
    "## 1. Mostrando índices creados"
   ]
  },
  {
   "cell_type": "markdown",
   "metadata": {},
   "source": [
    "Si queréis ver los índices que hay en vustro nodo de elastic podéis ejecutar la siguiente linea de código."
   ]
  },
  {
   "cell_type": "code",
   "execution_count": 12,
   "metadata": {},
   "outputs": [
    {
     "name": "stdout",
     "output_type": "stream",
     "text": [
      "company\n",
      "cncf_dataset\n",
      ".kibana_1\n",
      "my_first_index\n",
      ".apm-custom-link\n",
      ".apm-agent-configuration\n",
      ".kibana_task_manager_1\n"
     ]
    }
   ],
   "source": [
    "indexes = elastic.indices.get_alias(\"*\").keys()\n",
    "[print(i) for i in indexes];"
   ]
  },
  {
   "cell_type": "markdown",
   "metadata": {},
   "source": [
    "## 2. Creando y borrando índices"
   ]
  },
  {
   "cell_type": "markdown",
   "metadata": {},
   "source": [
    "Por otro lado puede seros interesante aprender a borrar un índice previamente creado si el proceso de carga se ha quedado a medias por falta de memoria por ejemplo."
   ]
  },
  {
   "cell_type": "code",
   "execution_count": 16,
   "metadata": {
    "scrolled": true
   },
   "outputs": [
    {
     "data": {
      "text/plain": [
       "{'acknowledged': True, 'shards_acknowledged': True, 'index': 'my_first_index'}"
      ]
     },
     "execution_count": 16,
     "metadata": {},
     "output_type": "execute_result"
    }
   ],
   "source": [
    "new_index = \"my_first_index\"    # poner siempre en minúsculas\n",
    "elastic.indices.create(index = new_index)"
   ]
  },
  {
   "cell_type": "code",
   "execution_count": 17,
   "metadata": {},
   "outputs": [
    {
     "name": "stdout",
     "output_type": "stream",
     "text": [
      "{\"my_first_index\":{\"aliases\":{},\"mappings\":{},\"settings\":{\"index\":{\"creation_date\":\"1592950794822\",\"number_of_shards\":\"1\",\"number_of_replicas\":\"1\",\"uuid\":\"vZgWEmXVRUaMN31IsXGxmw\",\"version\":{\"created\":\"7070099\"},\"provided_name\":\"my_first_index\"}}}}"
     ]
    }
   ],
   "source": [
    "!curl -XGET \"0.0.0.0:9200/my_first_index\"    # comprobando creación del nuevo índice"
   ]
  },
  {
   "cell_type": "code",
   "execution_count": 18,
   "metadata": {},
   "outputs": [
    {
     "data": {
      "text/plain": [
       "{'acknowledged': True}"
      ]
     },
     "execution_count": 18,
     "metadata": {},
     "output_type": "execute_result"
    }
   ],
   "source": [
    "elastic.indices.delete(index = new_index)"
   ]
  },
  {
   "cell_type": "markdown",
   "metadata": {},
   "source": [
    "# Exportar de Mapping"
   ]
  },
  {
   "cell_type": "code",
   "execution_count": 54,
   "metadata": {},
   "outputs": [],
   "source": [
    "mapping = elastic.indices.get_mapping('cncf_dataset') # extraemos el mapping"
   ]
  },
  {
   "cell_type": "code",
   "execution_count": 55,
   "metadata": {
    "scrolled": true
   },
   "outputs": [
    {
     "name": "stdout",
     "output_type": "stream",
     "text": [
      "{\n",
      "    \"Author_bot\": {\n",
      "        \"type\": \"boolean\"\n",
      "    },\n",
      "    \"Author_domain\": {\n",
      "        \"type\": \"text\",\n",
      "        \"fields\": {\n",
      "            \"keyword\": {\n",
      "                \"type\": \"keyword\",\n",
      "                \"ignore_above\": 256\n",
      "            }\n",
      "        }\n",
      "    },\n",
      "    \"Author_gender\": {\n",
      "        \"type\": \"text\",\n",
      "        \"fields\": {\n",
      "            \"keyword\": {\n",
      "                \"type\": \"keyword\",\n",
      "                \"ignore_above\": 256\n",
      "            }\n",
      "        }\n",
      "    },\n",
      "    \"Author_gender_acc\": {\n",
      "        \"type\": \"long\"\n",
      "    },\n",
      "    \"Author_id\": {\n",
      "        \"type\": \"text\",\n",
      "        \"fields\": {\n",
      "            \"keyword\": {\n",
      "                \"type\": \"keyword\",\n",
      "                \"ignore_above\": 256\n",
      "            }\n",
      "        }\n",
      "    },\n",
      "    \"Author_multi_org_names\": {\n",
      "        \"type\": \"text\",\n",
      "        \"fields\": {\n",
      "            \"keyword\": {\n",
      "                \"type\": \"keyword\",\n",
      "                \"ignore_above\": 256\n",
      "            }\n",
      "        }\n",
      "    },\n",
      "    \"Author_name\": {\n",
      "        \"type\": \"text\",\n",
      "        \"fields\": {\n",
      "            \"keyword\": {\n",
      "                \"type\": \"keyword\",\n",
      "                \"ignore_above\": 256\n",
      "            }\n",
      "        }\n",
      "    },\n",
      "    \"Author_org_name\": {\n",
      "        \"type\": \"text\",\n",
      "        \"fields\": {\n",
      "            \"keyword\": {\n",
      "                \"type\": \"keyword\",\n",
      "                \"ignore_above\": 256\n",
      "            }\n",
      "        }\n",
      "    },\n",
      "    \"Author_user_name\": {\n",
      "        \"type\": \"text\",\n",
      "        \"fields\": {\n",
      "            \"keyword\": {\n",
      "                \"type\": \"keyword\",\n",
      "                \"ignore_above\": 256\n",
      "            }\n",
      "        }\n",
      "    },\n",
      "    \"Author_uuid\": {\n",
      "        \"type\": \"text\",\n",
      "        \"fields\": {\n",
      "            \"keyword\": {\n",
      "                \"type\": \"keyword\",\n",
      "                \"ignore_above\": 256\n",
      "            }\n",
      "        }\n",
      "    },\n",
      "    \"Commit_bot\": {\n",
      "        \"type\": \"boolean\"\n",
      "    },\n",
      "    \"Commit_domain\": {\n",
      "        \"type\": \"text\",\n",
      "        \"fields\": {\n",
      "            \"keyword\": {\n",
      "                \"type\": \"keyword\",\n",
      "                \"ignore_above\": 256\n",
      "            }\n",
      "        }\n",
      "    },\n",
      "    \"Commit_gender\": {\n",
      "        \"type\": \"text\",\n",
      "        \"fields\": {\n",
      "            \"keyword\": {\n",
      "                \"type\": \"keyword\",\n",
      "                \"ignore_above\": 256\n",
      "            }\n",
      "        }\n",
      "    },\n",
      "    \"Commit_gender_acc\": {\n",
      "        \"type\": \"long\"\n",
      "    },\n",
      "    \"Commit_id\": {\n",
      "        \"type\": \"text\",\n",
      "        \"fields\": {\n",
      "            \"keyword\": {\n",
      "                \"type\": \"keyword\",\n",
      "                \"ignore_above\": 256\n",
      "            }\n",
      "        }\n",
      "    },\n",
      "    \"Commit_multi_org_names\": {\n",
      "        \"type\": \"text\",\n",
      "        \"fields\": {\n",
      "            \"keyword\": {\n",
      "                \"type\": \"keyword\",\n",
      "                \"ignore_above\": 256\n",
      "            }\n",
      "        }\n",
      "    },\n",
      "    \"Commit_name\": {\n",
      "        \"type\": \"text\",\n",
      "        \"fields\": {\n",
      "            \"keyword\": {\n",
      "                \"type\": \"keyword\",\n",
      "                \"ignore_above\": 256\n",
      "            }\n",
      "        }\n",
      "    },\n",
      "    \"Commit_org_name\": {\n",
      "        \"type\": \"text\",\n",
      "        \"fields\": {\n",
      "            \"keyword\": {\n",
      "                \"type\": \"keyword\",\n",
      "                \"ignore_above\": 256\n",
      "            }\n",
      "        }\n",
      "    },\n",
      "    \"Commit_user_name\": {\n",
      "        \"type\": \"text\",\n",
      "        \"fields\": {\n",
      "            \"keyword\": {\n",
      "                \"type\": \"keyword\",\n",
      "                \"ignore_above\": 256\n",
      "            }\n",
      "        }\n",
      "    },\n",
      "    \"Commit_uuid\": {\n",
      "        \"type\": \"text\",\n",
      "        \"fields\": {\n",
      "            \"keyword\": {\n",
      "                \"type\": \"keyword\",\n",
      "                \"ignore_above\": 256\n",
      "            }\n",
      "        }\n",
      "    },\n",
      "    \"author_bot\": {\n",
      "        \"type\": \"boolean\"\n",
      "    },\n",
      "    \"author_date\": {\n",
      "        \"type\": \"date\"\n",
      "    },\n",
      "    \"author_date_hour\": {\n",
      "        \"type\": \"long\"\n",
      "    },\n",
      "    \"author_date_weekday\": {\n",
      "        \"type\": \"long\"\n",
      "    },\n",
      "    \"author_domain\": {\n",
      "        \"type\": \"text\",\n",
      "        \"fields\": {\n",
      "            \"keyword\": {\n",
      "                \"type\": \"keyword\",\n",
      "                \"ignore_above\": 256\n",
      "            }\n",
      "        }\n",
      "    },\n",
      "    \"author_gender\": {\n",
      "        \"type\": \"text\",\n",
      "        \"fields\": {\n",
      "            \"keyword\": {\n",
      "                \"type\": \"keyword\",\n",
      "                \"ignore_above\": 256\n",
      "            }\n",
      "        }\n",
      "    },\n",
      "    \"author_gender_acc\": {\n",
      "        \"type\": \"long\"\n",
      "    },\n",
      "    \"author_id\": {\n",
      "        \"type\": \"text\",\n",
      "        \"fields\": {\n",
      "            \"keyword\": {\n",
      "                \"type\": \"keyword\",\n",
      "                \"ignore_above\": 256\n",
      "            }\n",
      "        }\n",
      "    },\n",
      "    \"author_multi_org_names\": {\n",
      "        \"type\": \"text\",\n",
      "        \"fields\": {\n",
      "            \"keyword\": {\n",
      "                \"type\": \"keyword\",\n",
      "                \"ignore_above\": 256\n",
      "            }\n",
      "        }\n",
      "    },\n",
      "    \"author_name\": {\n",
      "        \"type\": \"text\",\n",
      "        \"fields\": {\n",
      "            \"keyword\": {\n",
      "                \"type\": \"keyword\",\n",
      "                \"ignore_above\": 256\n",
      "            }\n",
      "        }\n",
      "    },\n",
      "    \"author_org_name\": {\n",
      "        \"type\": \"text\",\n",
      "        \"fields\": {\n",
      "            \"keyword\": {\n",
      "                \"type\": \"keyword\",\n",
      "                \"ignore_above\": 256\n",
      "            }\n",
      "        }\n",
      "    },\n",
      "    \"author_user_name\": {\n",
      "        \"type\": \"text\",\n",
      "        \"fields\": {\n",
      "            \"keyword\": {\n",
      "                \"type\": \"keyword\",\n",
      "                \"ignore_above\": 256\n",
      "            }\n",
      "        }\n",
      "    },\n",
      "    \"author_uuid\": {\n",
      "        \"type\": \"text\",\n",
      "        \"fields\": {\n",
      "            \"keyword\": {\n",
      "                \"type\": \"keyword\",\n",
      "                \"ignore_above\": 256\n",
      "            }\n",
      "        }\n",
      "    },\n",
      "    \"cm_title\": {\n",
      "        \"type\": \"text\",\n",
      "        \"fields\": {\n",
      "            \"keyword\": {\n",
      "                \"type\": \"keyword\",\n",
      "                \"ignore_above\": 256\n",
      "            }\n",
      "        }\n",
      "    },\n",
      "    \"commit_date\": {\n",
      "        \"type\": \"date\"\n",
      "    },\n",
      "    \"commit_date_hour\": {\n",
      "        \"type\": \"long\"\n",
      "    },\n",
      "    \"commit_date_weekday\": {\n",
      "        \"type\": \"long\"\n",
      "    },\n",
      "    \"commit_tags\": {\n",
      "        \"type\": \"text\",\n",
      "        \"fields\": {\n",
      "            \"keyword\": {\n",
      "                \"type\": \"keyword\",\n",
      "                \"ignore_above\": 256\n",
      "            }\n",
      "        }\n",
      "    },\n",
      "    \"committer_domain\": {\n",
      "        \"type\": \"text\",\n",
      "        \"fields\": {\n",
      "            \"keyword\": {\n",
      "                \"type\": \"keyword\",\n",
      "                \"ignore_above\": 256\n",
      "            }\n",
      "        }\n",
      "    },\n",
      "    \"committer_name\": {\n",
      "        \"type\": \"text\",\n",
      "        \"fields\": {\n",
      "            \"keyword\": {\n",
      "                \"type\": \"keyword\",\n",
      "                \"ignore_above\": 256\n",
      "            }\n",
      "        }\n",
      "    },\n",
      "    \"demography_max_date\": {\n",
      "        \"type\": \"date\"\n",
      "    },\n",
      "    \"demography_min_date\": {\n",
      "        \"type\": \"date\"\n",
      "    },\n",
      "    \"files\": {\n",
      "        \"type\": \"long\"\n",
      "    },\n",
      "    \"git_author_domain\": {\n",
      "        \"type\": \"text\",\n",
      "        \"fields\": {\n",
      "            \"keyword\": {\n",
      "                \"type\": \"keyword\",\n",
      "                \"ignore_above\": 256\n",
      "            }\n",
      "        }\n",
      "    },\n",
      "    \"git_uuid\": {\n",
      "        \"type\": \"text\",\n",
      "        \"fields\": {\n",
      "            \"keyword\": {\n",
      "                \"type\": \"keyword\",\n",
      "                \"ignore_above\": 256\n",
      "            }\n",
      "        }\n",
      "    },\n",
      "    \"github_repo\": {\n",
      "        \"type\": \"text\",\n",
      "        \"fields\": {\n",
      "            \"keyword\": {\n",
      "                \"type\": \"keyword\",\n",
      "                \"ignore_above\": 256\n",
      "            }\n",
      "        }\n",
      "    },\n",
      "    \"grimoire_creation_date\": {\n",
      "        \"type\": \"date\"\n",
      "    },\n",
      "    \"hash\": {\n",
      "        \"type\": \"text\",\n",
      "        \"fields\": {\n",
      "            \"keyword\": {\n",
      "                \"type\": \"keyword\",\n",
      "                \"ignore_above\": 256\n",
      "            }\n",
      "        }\n",
      "    },\n",
      "    \"hash_short\": {\n",
      "        \"type\": \"text\",\n",
      "        \"fields\": {\n",
      "            \"keyword\": {\n",
      "                \"type\": \"keyword\",\n",
      "                \"ignore_above\": 256\n",
      "            }\n",
      "        }\n",
      "    },\n",
      "    \"is_git_commit\": {\n",
      "        \"type\": \"long\"\n",
      "    },\n",
      "    \"lines_added\": {\n",
      "        \"type\": \"long\"\n",
      "    },\n",
      "    \"lines_changed\": {\n",
      "        \"type\": \"long\"\n",
      "    },\n",
      "    \"lines_removed\": {\n",
      "        \"type\": \"long\"\n",
      "    },\n",
      "    \"message\": {\n",
      "        \"type\": \"text\",\n",
      "        \"fields\": {\n",
      "            \"keyword\": {\n",
      "                \"type\": \"keyword\",\n",
      "                \"ignore_above\": 256\n",
      "            }\n",
      "        }\n",
      "    },\n",
      "    \"message_analyzed\": {\n",
      "        \"type\": \"text\",\n",
      "        \"fields\": {\n",
      "            \"keyword\": {\n",
      "                \"type\": \"keyword\",\n",
      "                \"ignore_above\": 256\n",
      "            }\n",
      "        }\n",
      "    },\n",
      "    \"metadata__enriched_on\": {\n",
      "        \"type\": \"date\"\n",
      "    },\n",
      "    \"metadata__gelk_backend_name\": {\n",
      "        \"type\": \"text\",\n",
      "        \"fields\": {\n",
      "            \"keyword\": {\n",
      "                \"type\": \"keyword\",\n",
      "                \"ignore_above\": 256\n",
      "            }\n",
      "        }\n",
      "    },\n",
      "    \"metadata__gelk_version\": {\n",
      "        \"type\": \"text\",\n",
      "        \"fields\": {\n",
      "            \"keyword\": {\n",
      "                \"type\": \"keyword\",\n",
      "                \"ignore_above\": 256\n",
      "            }\n",
      "        }\n",
      "    },\n",
      "    \"metadata__timestamp\": {\n",
      "        \"type\": \"date\"\n",
      "    },\n",
      "    \"metadata__updated_on\": {\n",
      "        \"type\": \"date\"\n",
      "    },\n",
      "    \"origin\": {\n",
      "        \"type\": \"text\",\n",
      "        \"fields\": {\n",
      "            \"keyword\": {\n",
      "                \"type\": \"keyword\",\n",
      "                \"ignore_above\": 256\n",
      "            }\n",
      "        }\n",
      "    },\n",
      "    \"project\": {\n",
      "        \"type\": \"text\",\n",
      "        \"fields\": {\n",
      "            \"keyword\": {\n",
      "                \"type\": \"keyword\",\n",
      "                \"ignore_above\": 256\n",
      "            }\n",
      "        }\n",
      "    },\n",
      "    \"project_1\": {\n",
      "        \"type\": \"text\",\n",
      "        \"fields\": {\n",
      "            \"keyword\": {\n",
      "                \"type\": \"keyword\",\n",
      "                \"ignore_above\": 256\n",
      "            }\n",
      "        }\n",
      "    },\n",
      "    \"repo_name\": {\n",
      "        \"type\": \"text\",\n",
      "        \"fields\": {\n",
      "            \"keyword\": {\n",
      "                \"type\": \"keyword\",\n",
      "                \"ignore_above\": 256\n",
      "            }\n",
      "        }\n",
      "    },\n",
      "    \"tag\": {\n",
      "        \"type\": \"text\",\n",
      "        \"fields\": {\n",
      "            \"keyword\": {\n",
      "                \"type\": \"keyword\",\n",
      "                \"ignore_above\": 256\n",
      "            }\n",
      "        }\n",
      "    },\n",
      "    \"time_to_commit_hours\": {\n",
      "        \"type\": \"float\"\n",
      "    },\n",
      "    \"title\": {\n",
      "        \"type\": \"text\",\n",
      "        \"fields\": {\n",
      "            \"keyword\": {\n",
      "                \"type\": \"keyword\",\n",
      "                \"ignore_above\": 256\n",
      "            }\n",
      "        }\n",
      "    },\n",
      "    \"tz\": {\n",
      "        \"type\": \"long\"\n",
      "    },\n",
      "    \"url_id\": {\n",
      "        \"type\": \"text\",\n",
      "        \"fields\": {\n",
      "            \"keyword\": {\n",
      "                \"type\": \"keyword\",\n",
      "                \"ignore_above\": 256\n",
      "            }\n",
      "        }\n",
      "    },\n",
      "    \"utc_author\": {\n",
      "        \"type\": \"date\"\n",
      "    },\n",
      "    \"utc_author_date_hour\": {\n",
      "        \"type\": \"long\"\n",
      "    },\n",
      "    \"utc_author_date_weekday\": {\n",
      "        \"type\": \"long\"\n",
      "    },\n",
      "    \"utc_commit\": {\n",
      "        \"type\": \"date\"\n",
      "    },\n",
      "    \"utc_commit_date_hour\": {\n",
      "        \"type\": \"long\"\n",
      "    },\n",
      "    \"utc_commit_date_weekday\": {\n",
      "        \"type\": \"long\"\n",
      "    },\n",
      "    \"uuid\": {\n",
      "        \"type\": \"text\",\n",
      "        \"fields\": {\n",
      "            \"keyword\": {\n",
      "                \"type\": \"keyword\",\n",
      "                \"ignore_above\": 256\n",
      "            }\n",
      "        }\n",
      "    }\n",
      "}\n"
     ]
    }
   ],
   "source": [
    "mapping_keys = mapping[index_name][\"mappings\"].keys()\n",
    "doc_type = list(mapping_keys)[0]\n",
    "schema = mapping['cncf_dataset']['mappings']['properties']\n",
    "print(json.dumps(schema, indent=4))\n",
    "\n",
    "# guardado de mapping\n",
    "with open('../data/schema.json', 'w') as outfile:\n",
    "    json.dump(schema, outfile)"
   ]
  },
  {
   "cell_type": "code",
   "execution_count": 57,
   "metadata": {},
   "outputs": [
    {
     "ename": "NotFoundError",
     "evalue": "NotFoundError(404, '{}')",
     "output_type": "error",
     "traceback": [
      "\u001b[0;31m-------------------------------------------------------------------------\u001b[0m",
      "\u001b[0;31mNotFoundError\u001b[0m                           Traceback (most recent call last)",
      "\u001b[0;32m<ipython-input-57-d4210245fe83>\u001b[0m in \u001b[0;36m<module>\u001b[0;34m\u001b[0m\n\u001b[0;32m----> 1\u001b[0;31m \u001b[0mtemplate\u001b[0m \u001b[0;34m=\u001b[0m \u001b[0melastic\u001b[0m\u001b[0;34m.\u001b[0m\u001b[0mindices\u001b[0m\u001b[0;34m.\u001b[0m\u001b[0mget_template\u001b[0m\u001b[0;34m(\u001b[0m\u001b[0;34m'cncf_dataset'\u001b[0m\u001b[0;34m)\u001b[0m\u001b[0;34m\u001b[0m\u001b[0;34m\u001b[0m\u001b[0m\n\u001b[0m",
      "\u001b[0;32m~/anaconda3/lib/python3.7/site-packages/elasticsearch/client/utils.py\u001b[0m in \u001b[0;36m_wrapped\u001b[0;34m(*args, **kwargs)\u001b[0m\n\u001b[1;32m     90\u001b[0m                 \u001b[0;32mif\u001b[0m \u001b[0mp\u001b[0m \u001b[0;32min\u001b[0m \u001b[0mkwargs\u001b[0m\u001b[0;34m:\u001b[0m\u001b[0;34m\u001b[0m\u001b[0;34m\u001b[0m\u001b[0m\n\u001b[1;32m     91\u001b[0m                     \u001b[0mparams\u001b[0m\u001b[0;34m[\u001b[0m\u001b[0mp\u001b[0m\u001b[0;34m]\u001b[0m \u001b[0;34m=\u001b[0m \u001b[0mkwargs\u001b[0m\u001b[0;34m.\u001b[0m\u001b[0mpop\u001b[0m\u001b[0;34m(\u001b[0m\u001b[0mp\u001b[0m\u001b[0;34m)\u001b[0m\u001b[0;34m\u001b[0m\u001b[0;34m\u001b[0m\u001b[0m\n\u001b[0;32m---> 92\u001b[0;31m             \u001b[0;32mreturn\u001b[0m \u001b[0mfunc\u001b[0m\u001b[0;34m(\u001b[0m\u001b[0;34m*\u001b[0m\u001b[0margs\u001b[0m\u001b[0;34m,\u001b[0m \u001b[0mparams\u001b[0m\u001b[0;34m=\u001b[0m\u001b[0mparams\u001b[0m\u001b[0;34m,\u001b[0m \u001b[0mheaders\u001b[0m\u001b[0;34m=\u001b[0m\u001b[0mheaders\u001b[0m\u001b[0;34m,\u001b[0m \u001b[0;34m**\u001b[0m\u001b[0mkwargs\u001b[0m\u001b[0;34m)\u001b[0m\u001b[0;34m\u001b[0m\u001b[0;34m\u001b[0m\u001b[0m\n\u001b[0m\u001b[1;32m     93\u001b[0m \u001b[0;34m\u001b[0m\u001b[0m\n\u001b[1;32m     94\u001b[0m         \u001b[0;32mreturn\u001b[0m \u001b[0m_wrapped\u001b[0m\u001b[0;34m\u001b[0m\u001b[0;34m\u001b[0m\u001b[0m\n",
      "\u001b[0;32m~/anaconda3/lib/python3.7/site-packages/elasticsearch/client/indices.py\u001b[0m in \u001b[0;36mget_template\u001b[0;34m(self, name, params, headers)\u001b[0m\n\u001b[1;32m    644\u001b[0m         \"\"\"\n\u001b[1;32m    645\u001b[0m         return self.transport.perform_request(\n\u001b[0;32m--> 646\u001b[0;31m             \u001b[0;34m\"GET\"\u001b[0m\u001b[0;34m,\u001b[0m \u001b[0m_make_path\u001b[0m\u001b[0;34m(\u001b[0m\u001b[0;34m\"_template\"\u001b[0m\u001b[0;34m,\u001b[0m \u001b[0mname\u001b[0m\u001b[0;34m)\u001b[0m\u001b[0;34m,\u001b[0m \u001b[0mparams\u001b[0m\u001b[0;34m=\u001b[0m\u001b[0mparams\u001b[0m\u001b[0;34m,\u001b[0m \u001b[0mheaders\u001b[0m\u001b[0;34m=\u001b[0m\u001b[0mheaders\u001b[0m\u001b[0;34m\u001b[0m\u001b[0;34m\u001b[0m\u001b[0m\n\u001b[0m\u001b[1;32m    647\u001b[0m         )\n\u001b[1;32m    648\u001b[0m \u001b[0;34m\u001b[0m\u001b[0m\n",
      "\u001b[0;32m~/anaconda3/lib/python3.7/site-packages/elasticsearch/transport.py\u001b[0m in \u001b[0;36mperform_request\u001b[0;34m(self, method, url, headers, params, body)\u001b[0m\n\u001b[1;32m    360\u001b[0m                     \u001b[0mheaders\u001b[0m\u001b[0;34m=\u001b[0m\u001b[0mheaders\u001b[0m\u001b[0;34m,\u001b[0m\u001b[0;34m\u001b[0m\u001b[0;34m\u001b[0m\u001b[0m\n\u001b[1;32m    361\u001b[0m                     \u001b[0mignore\u001b[0m\u001b[0;34m=\u001b[0m\u001b[0mignore\u001b[0m\u001b[0;34m,\u001b[0m\u001b[0;34m\u001b[0m\u001b[0;34m\u001b[0m\u001b[0m\n\u001b[0;32m--> 362\u001b[0;31m                     \u001b[0mtimeout\u001b[0m\u001b[0;34m=\u001b[0m\u001b[0mtimeout\u001b[0m\u001b[0;34m,\u001b[0m\u001b[0;34m\u001b[0m\u001b[0;34m\u001b[0m\u001b[0m\n\u001b[0m\u001b[1;32m    363\u001b[0m                 )\n\u001b[1;32m    364\u001b[0m \u001b[0;34m\u001b[0m\u001b[0m\n",
      "\u001b[0;32m~/anaconda3/lib/python3.7/site-packages/elasticsearch/connection/http_urllib3.py\u001b[0m in \u001b[0;36mperform_request\u001b[0;34m(self, method, url, params, body, timeout, ignore, headers)\u001b[0m\n\u001b[1;32m    250\u001b[0m                 \u001b[0mmethod\u001b[0m\u001b[0;34m,\u001b[0m \u001b[0mfull_url\u001b[0m\u001b[0;34m,\u001b[0m \u001b[0murl\u001b[0m\u001b[0;34m,\u001b[0m \u001b[0morig_body\u001b[0m\u001b[0;34m,\u001b[0m \u001b[0mduration\u001b[0m\u001b[0;34m,\u001b[0m \u001b[0mresponse\u001b[0m\u001b[0;34m.\u001b[0m\u001b[0mstatus\u001b[0m\u001b[0;34m,\u001b[0m \u001b[0mraw_data\u001b[0m\u001b[0;34m\u001b[0m\u001b[0;34m\u001b[0m\u001b[0m\n\u001b[1;32m    251\u001b[0m             )\n\u001b[0;32m--> 252\u001b[0;31m             \u001b[0mself\u001b[0m\u001b[0;34m.\u001b[0m\u001b[0m_raise_error\u001b[0m\u001b[0;34m(\u001b[0m\u001b[0mresponse\u001b[0m\u001b[0;34m.\u001b[0m\u001b[0mstatus\u001b[0m\u001b[0;34m,\u001b[0m \u001b[0mraw_data\u001b[0m\u001b[0;34m)\u001b[0m\u001b[0;34m\u001b[0m\u001b[0;34m\u001b[0m\u001b[0m\n\u001b[0m\u001b[1;32m    253\u001b[0m \u001b[0;34m\u001b[0m\u001b[0m\n\u001b[1;32m    254\u001b[0m         self.log_request_success(\n",
      "\u001b[0;32m~/anaconda3/lib/python3.7/site-packages/elasticsearch/connection/base.py\u001b[0m in \u001b[0;36m_raise_error\u001b[0;34m(self, status_code, raw_data)\u001b[0m\n\u001b[1;32m    280\u001b[0m \u001b[0;34m\u001b[0m\u001b[0m\n\u001b[1;32m    281\u001b[0m         raise HTTP_EXCEPTIONS.get(status_code, TransportError)(\n\u001b[0;32m--> 282\u001b[0;31m             \u001b[0mstatus_code\u001b[0m\u001b[0;34m,\u001b[0m \u001b[0merror_message\u001b[0m\u001b[0;34m,\u001b[0m \u001b[0madditional_info\u001b[0m\u001b[0;34m\u001b[0m\u001b[0;34m\u001b[0m\u001b[0m\n\u001b[0m\u001b[1;32m    283\u001b[0m         )\n\u001b[1;32m    284\u001b[0m \u001b[0;34m\u001b[0m\u001b[0m\n",
      "\u001b[0;31mNotFoundError\u001b[0m: NotFoundError(404, '{}')"
     ]
    }
   ],
   "source": [
    "template = elastic.indices.get_template('cncf_dataset')"
   ]
  },
  {
   "cell_type": "code",
   "execution_count": null,
   "metadata": {},
   "outputs": [],
   "source": []
  }
 ],
 "metadata": {
  "kernelspec": {
   "display_name": "Python 3",
   "language": "python",
   "name": "python3"
  },
  "language_info": {
   "codemirror_mode": {
    "name": "ipython",
    "version": 3
   },
   "file_extension": ".py",
   "mimetype": "text/x-python",
   "name": "python",
   "nbconvert_exporter": "python",
   "pygments_lexer": "ipython3",
   "version": "3.7.7"
  }
 },
 "nbformat": 4,
 "nbformat_minor": 4
}
